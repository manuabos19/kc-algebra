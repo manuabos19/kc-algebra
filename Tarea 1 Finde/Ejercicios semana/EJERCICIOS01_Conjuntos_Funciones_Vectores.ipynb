{
 "cells": [
  {
   "cell_type": "markdown",
   "id": "7034ef48",
   "metadata": {},
   "source": [
    "## Ejercicios de repaso del módulo de Matemáticas 101"
   ]
  },
  {
   "cell_type": "markdown",
   "id": "201db50c",
   "metadata": {},
   "source": [
    "### Ejercicio 1: Conjuntos disjuntos\n",
    "\n",
    "Implementa una función `son_disjuntos` que diga si dos conjuntos son disjuntos o no. Para ello, no puedes utilizar directamente `intersection` ni el operador `&`.\n",
    "\n",
    "Aplica la función a los siguientes conjuntos que tendrás que crear previamente en Python:\n",
    "\n",
    "- Los números pares y los números múltiplos de 5, desde el 0 hasta el 100\n",
    "- Las potencias de 2 y los múltiplos de 10, desde el 1 hasta el 1000"
   ]
  },
  {
   "cell_type": "code",
   "execution_count": 9,
   "id": "c8f28c98",
   "metadata": {},
   "outputs": [],
   "source": [
    "def son_disjuntos(A,B):\n",
    "    for a in A:\n",
    "        if a in B:\n",
    "            return False\n",
    "    \n",
    "    return True"
   ]
  },
  {
   "cell_type": "code",
   "execution_count": 2,
   "id": "6f3532e6",
   "metadata": {},
   "outputs": [
    {
     "name": "stdout",
     "output_type": "stream",
     "text": [
      "{0, 2, 4, 5, 6, 8, 10, 12, 14, 15, 16, 18, 20, 22, 24, 25, 26, 28, 30, 32, 34, 35, 36, 38, 40, 42, 44, 45, 46, 48, 50, 52, 54, 55, 56, 58, 60, 62, 64, 65, 66, 68, 70, 72, 74, 75, 76, 78, 80, 82, 84, 85, 86, 88, 90, 92, 94, 95, 96, 98, 100}\n"
     ]
    }
   ],
   "source": [
    "c1 = {x for x in range(0,101) if x%2 == 0 or x%5 == 0}\n",
    "print(c1)"
   ]
  },
  {
   "cell_type": "code",
   "execution_count": 7,
   "id": "5a6811f2",
   "metadata": {},
   "outputs": [
    {
     "name": "stdout",
     "output_type": "stream",
     "text": [
      "{512, 1, 2, 4, 8, 520, 10, 16, 530, 20, 540, 30, 32, 550, 40, 560, 50, 570, 60, 64, 580, 70, 590, 80, 600, 90, 610, 100, 620, 110, 630, 120, 128, 640, 130, 650, 140, 660, 150, 670, 160, 680, 170, 690, 180, 700, 190, 710, 200, 720, 210, 730, 220, 740, 230, 750, 240, 760, 250, 256, 770, 260, 780, 270, 790, 280, 800, 290, 810, 300, 820, 310, 830, 320, 840, 330, 850, 340, 860, 350, 870, 360, 880, 370, 890, 380, 900, 390, 910, 400, 920, 410, 930, 420, 940, 430, 950, 440, 960, 450, 970, 460, 980, 470, 990, 480, 1000, 490, 500, 510}\n"
     ]
    }
   ],
   "source": [
    "import math\n",
    "c2 = {x for x in range(1,1001) if x%10 == 0 or math.log(x,2).is_integer()}\n",
    "print(c2)"
   ]
  },
  {
   "cell_type": "markdown",
   "id": "c551148c",
   "metadata": {},
   "source": [
    "OJO! Pueden pasar cosas raras con las potencias de 2 debido a los errores de aproximación que ya hemos visto."
   ]
  },
  {
   "cell_type": "code",
   "execution_count": null,
   "id": "985f5fff",
   "metadata": {},
   "outputs": [],
   "source": [
    "math.log(2**29, 2).is_integer()"
   ]
  },
  {
   "cell_type": "code",
   "execution_count": null,
   "id": "9cd6455e",
   "metadata": {},
   "outputs": [],
   "source": [
    "math.log2(2**49-1).is_integer()"
   ]
  },
  {
   "cell_type": "code",
   "execution_count": 10,
   "id": "40566985",
   "metadata": {},
   "outputs": [
    {
     "data": {
      "text/plain": [
       "False"
      ]
     },
     "execution_count": 10,
     "metadata": {},
     "output_type": "execute_result"
    }
   ],
   "source": [
    "son_disjuntos(c1, c2)"
   ]
  },
  {
   "cell_type": "markdown",
   "id": "7a433182",
   "metadata": {},
   "source": [
    "### Ejercicio 2: Subconjuntos\n",
    "\n",
    "Implementa una función `es_subconjunto` que diga si dados dos subconjuntos uno de ellos es subconjunto de otro, y nos diga cuál. Para ello, no puedes utilizar directamente `issubset` ni el operador `<=`.\n",
    "\n",
    "Aplica la función a los siguientes conjuntos que tendrás que crear previamente en Python:\n",
    "\n",
    "- Los posibles resultados combinados de lanzar un dado y una moneda y los de lanzar dos monedas\n",
    "- Los cuadrados perfectos de dos cifras y los números pares de dos cifras"
   ]
  },
  {
   "cell_type": "code",
   "execution_count": 12,
   "id": "ab863b5d",
   "metadata": {},
   "outputs": [
    {
     "name": "stdout",
     "output_type": "stream",
     "text": [
      "True\n",
      "True\n",
      "False\n"
     ]
    }
   ],
   "source": [
    "def es_subconjunto(A,B):\n",
    "    for element in A: \n",
    "        if element not in B:\n",
    "            return False\n",
    "    \n",
    "    return True\n",
    "\n",
    "print(es_subconjunto({1,2}, {1,2,3}))\n",
    "print(es_subconjunto(set(), {1,2,3,4}))\n",
    "print(es_subconjunto({0,1}, {1,2,3,4}))"
   ]
  },
  {
   "cell_type": "code",
   "execution_count": 63,
   "id": "4fa35c48",
   "metadata": {},
   "outputs": [
    {
     "name": "stdout",
     "output_type": "stream",
     "text": [
      "{('cara', 19), ('cruz', 117), ('cruz', 168), ('cara', 53), ('cara', 21), ('cara', 98)}\n"
     ]
    }
   ],
   "source": [
    "# Lanzar un dado y una moneda\n",
    "import random\n",
    "\n",
    "# lo guardamos como tupla\n",
    "c1 = set()\n",
    "for i in range(6):\n",
    "    dado = random.randint(1, 200)  # Lanzar un dado\n",
    "    moneda = random.choice(['cara', 'cruz'])  # Lanzar una moneda\n",
    "    c1.add((moneda,dado))\n",
    "\n"
   ]
  },
  {
   "cell_type": "code",
   "execution_count": 79,
   "id": "bc0d73c0",
   "metadata": {},
   "outputs": [
    {
     "data": {
      "text/plain": [
       "False"
      ]
     },
     "execution_count": 79,
     "metadata": {},
     "output_type": "execute_result"
    }
   ],
   "source": [
    "# Lanzar dos monedas distintas\n",
    "c2 = set()\n",
    "for i in range(6):\n",
    "    dado = random.choice(['cara', 'cruz'])  # Lanzar un dado\n",
    "    moneda = random.choice(['cara', 'cruz'])  # Lanzar una moneda\n",
    "    c2.add((moneda,dado))\n",
    "\n",
    "\n",
    "\n",
    "es_subconjunto(c2,c1)"
   ]
  },
  {
   "cell_type": "code",
   "execution_count": 80,
   "id": "586cdcf3",
   "metadata": {},
   "outputs": [
    {
     "data": {
      "text/plain": [
       "False"
      ]
     },
     "execution_count": 80,
     "metadata": {},
     "output_type": "execute_result"
    }
   ],
   "source": [
    "# Cuadrados perfectos\n",
    "cuadrados_perfectos = {i for i in range(10,100) if i ** 0.5 == int(i ** 0.5)}\n",
    "\n",
    "# Números pares\n",
    "numeros_pares_dos_cifras = {i for i in range(10,100) if i %2 == 0}\n",
    "\n",
    "es_subconjunto(cuadrados_perfectos,numeros_pares_dos_cifras)"
   ]
  },
  {
   "cell_type": "code",
   "execution_count": 74,
   "id": "0e7a4fe0",
   "metadata": {},
   "outputs": [
    {
     "data": {
      "text/plain": [
       "6"
      ]
     },
     "execution_count": 74,
     "metadata": {},
     "output_type": "execute_result"
    }
   ],
   "source": []
  },
  {
   "cell_type": "code",
   "execution_count": null,
   "id": "71c36cc5",
   "metadata": {},
   "outputs": [],
   "source": []
  },
  {
   "cell_type": "markdown",
   "id": "64589df0",
   "metadata": {},
   "source": [
    "### Ejercicio 4: \n",
    "\n",
    "Implementa un código que haga la representación gráfica de una función de una variable en un dominio, por ejemplo, la función 3*x + 7.\n",
    "Nota: utiliza [matplotlib](https://matplotlib.org/)."
   ]
  },
  {
   "cell_type": "code",
   "execution_count": 12,
   "id": "ca2aa489",
   "metadata": {},
   "outputs": [
    {
     "data": {
      "text/plain": [
       "(0.0, 100.0)"
      ]
     },
     "execution_count": 12,
     "metadata": {},
     "output_type": "execute_result"
    },
    {
     "data": {
      "image/png": "[encoded data removed]",
      "text/plain": [
       "<Figure size 1000x500 with 1 Axes>"
      ]
     },
     "metadata": {},
     "output_type": "display_data"
    }
   ],
   "source": [
    "import matplotlib.pyplot as plt\n",
    "import numpy as np \n",
    "\n",
    "x = np.linspace(0,10,1000)\n",
    "\n",
    "# eje y\n",
    "y = 3*x + 7\n",
    "\n",
    "\n",
    "# dibujamos la figura\n",
    "fig = plt.figure(figsize = (10, 5))\n",
    "\n",
    "plt.plot(x,y)\n",
    "plt.grid()\n",
    "\n",
    "# Con esta funcion controlamos los ejes y los podemos hacer mas grande o pequeños\n",
    "ax = plt.gca()\n",
    "ax.set_xlim([0, 10])\n",
    "ax.set_ylim([0, 100])\n",
    "\n"
   ]
  },
  {
   "cell_type": "markdown",
   "id": "4a91404f",
   "metadata": {},
   "source": [
    "### Ejercicio 5: Vectores en el plano\n",
    "\n",
    "Imagina que sobre un objeto se aplican dos fuerzas en distintas direcciones, por ejemplo, dos personas tirando de una caja con dos cuerdas. La primera fuerza tiene una magnitud 10N y está en dirección Norte. La segunda fuerza tiene una magnitud 5 y está en dirección Este. ¿Cuál es la fuerza resultante? ¿Qué pasaría si la segunda fuerza estuviera en dirección Noreste?"
   ]
  },
  {
   "cell_type": "code",
   "execution_count": 13,
   "id": "e5c3a6e6",
   "metadata": {},
   "outputs": [
    {
     "data": {
      "text/plain": [
       "array([10,  5])"
      ]
     },
     "execution_count": 13,
     "metadata": {},
     "output_type": "execute_result"
    }
   ],
   "source": [
    "# Ponemos cada fuerza como vector de Numpy\n",
    "F1 = np.array([10, 0])\n",
    "F2 = np.array([0, 5])\n",
    "\n",
    "# Fuerza resultante es la suma de las dos fuerzas\n",
    "F1+F2"
   ]
  },
  {
   "cell_type": "code",
   "execution_count": 15,
   "id": "374685f3",
   "metadata": {},
   "outputs": [
    {
     "name": "stdout",
     "output_type": "stream",
     "text": [
      "[3.53553391 3.53553391]\n",
      "5.0\n"
     ]
    }
   ],
   "source": [
    "# Ahora el vector está en la dirección de la diagonal, para esto tenemos que multiplicar la magnitud \n",
    "# por un vector de norma 1 en esa dirección\n",
    "import math\n",
    "F2_ = (5/math.sqrt(2))*np.array([1, 1])\n",
    "print(F2_)\n",
    "print(np.linalg.norm(F2_))"
   ]
  },
  {
   "cell_type": "code",
   "execution_count": 16,
   "id": "8dbf8549-0a12-49d5-ac7b-510c127ff4f0",
   "metadata": {},
   "outputs": [
    {
     "data": {
      "text/plain": [
       "array([13.53553391,  3.53553391])"
      ]
     },
     "execution_count": 16,
     "metadata": {},
     "output_type": "execute_result"
    }
   ],
   "source": [
    "F1 + F2_"
   ]
  },
  {
   "cell_type": "markdown",
   "id": "178ded52",
   "metadata": {},
   "source": [
    "### Ejercicio 6: Aplicación del producto escalar\n",
    "\n",
    "Queremos conocer el consumo de luz en nuestro home office, para lo cual usamos un medidor y anotamos el consumo de nuestros dispositivos por hora:\n",
    "\n",
    "- PC: 200W\n",
    "- Pantalla: 100W\n",
    "- Luces: 20W\n",
    "\n",
    "Usamos el PC y el monitor durante 8h al día, pero las luces solo durante hora y media. ¿Cómo podemos saber el consumo total?\n"
   ]
  },
  {
   "cell_type": "code",
   "execution_count": 21,
   "id": "291fda96",
   "metadata": {},
   "outputs": [
    {
     "name": "stdout",
     "output_type": "stream",
     "text": [
      "El consumo total es:  2430.0 vatios-hora\n",
      "Calculamos el consumo con producto escalar:  2430.0\n"
     ]
    }
   ],
   "source": [
    "\n",
    "# funcion del consumo de luz por hora \n",
    "# consumo = potencia(W) * tiempo(horas)\n",
    "\n",
    "pc = 200 * 8\n",
    "display = 100 * 8\n",
    "luces = 20 * 1.5\n",
    "\n",
    "consumo_total = pc + display + luces\n",
    "\n",
    "print('El consumo total es: ', consumo_total , 'vatios-hora')\n",
    "\n",
    "# utlizando el producto escalar seria de la siguiente manera, seria pasandolo a vectores y el producto escalar multiplica el uno por el otro como hemos hecho nosotros arriba \n",
    "\n",
    "dispositivos = np.array([200,100,20])\n",
    "horas = np.array([8,8,1.5])\n",
    "\n",
    "print(\"Calculamos el consumo con producto escalar: \" , dispositivos@horas)\n"
   ]
  }
 ],
 "metadata": {
  "kernelspec": {
   "display_name": "Python 3.12.1 64-bit",
   "language": "python",
   "name": "python3"
  },
  "language_info": {
   "codemirror_mode": {
    "name": "ipython",
    "version": 3
   },
   "file_extension": ".py",
   "mimetype": "text/x-python",
   "name": "python",
   "nbconvert_exporter": "python",
   "pygments_lexer": "ipython3",
   "version": "3.12.1"
  },
  "vscode": {
   "interpreter": {
    "hash": "9240d949b7e875368571ba59acc67192d2efbcc4561b3c6f94c83d7858e18732"
   }
  }
 },
 "nbformat": 4,
 "nbformat_minor": 5
}
