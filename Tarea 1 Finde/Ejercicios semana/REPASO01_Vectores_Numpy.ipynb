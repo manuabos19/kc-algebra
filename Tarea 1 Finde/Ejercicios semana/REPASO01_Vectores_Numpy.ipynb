{
 "cells": [
  {
   "cell_type": "markdown",
   "id": "7cc255fc",
   "metadata": {},
   "source": [
    "<img src=\"images/keepcoding.png\" width=200 align=\"left\">\n",
    "\n",
    "\n",
    "\n"
   ]
  },
  {
   "cell_type": "markdown",
   "id": "abf7f378",
   "metadata": {},
   "source": [
    "# Operaciones con numpy\n",
    "\n",
    "A veces necesitaremos unir datasets, modificar su forma o indexar usando `numpy`. La mayor parte de las operaciones realizadas sobre nuestros datos se pueden englobar en los siguientes bloques:\n",
    "\n",
    "* **Atributos:** `size`, `shape`, `memory consumption` y `data types`\n",
    "* **Indexing y slicing:** Obtener y modificar valores o subconjuntos del `array`\n",
    "* **Reshaping:** Modificar la forma del `array`\n",
    "* **Joining y splitting:** Combinar varios `arrays` en uno, o dividir uno en varios.\n",
    "\n",
    "Si tenemos dudas, siempre podemos consultar la [documentación oficial de Numpy](https://numpy.org/doc/stable/index.html). Además, Numpy tiene una comunidad muy grande por lo que si tenemos una duda es muy facil que haya sido resuelta antes en [Stack Overflow](https://stackoverflow.com/questions/tagged/numpy). También podemos usar ChatGPT para preguntar nuestras dudas, pero en cualquiera de estos casos tenemos que tener en cuenta la versión de la librería que estamos usando, porque puede haber cambios.\n",
    "\n",
    "Vamos a crear varios arrays de diferentes tamaños, con números enteros:"
   ]
  },
  {
   "cell_type": "code",
   "execution_count": 1,
   "id": "f63903b6",
   "metadata": {},
   "outputs": [],
   "source": [
    "import numpy as np\n",
    "np.random.seed(0)\n",
    "\n",
    "x1 = np.random.randint(10, size=3)\n",
    "x2 = np.random.randint(10, size=(3, 4))\n",
    "x3 = np.random.randint(10, size=(4, 3, 5))"
   ]
  },
  {
   "cell_type": "code",
   "execution_count": 2,
   "id": "a63f3dd9",
   "metadata": {},
   "outputs": [
    {
     "data": {
      "text/plain": [
       "array([5, 0, 3], dtype=int32)"
      ]
     },
     "execution_count": 2,
     "metadata": {},
     "output_type": "execute_result"
    }
   ],
   "source": [
    "x1"
   ]
  },
  {
   "cell_type": "code",
   "execution_count": 3,
   "id": "1ef49ea0",
   "metadata": {},
   "outputs": [
    {
     "data": {
      "text/plain": [
       "array([[3, 7, 9, 3],\n",
       "       [5, 2, 4, 7],\n",
       "       [6, 8, 8, 1]], dtype=int32)"
      ]
     },
     "execution_count": 3,
     "metadata": {},
     "output_type": "execute_result"
    }
   ],
   "source": [
    "x2"
   ]
  },
  {
   "cell_type": "code",
   "execution_count": 4,
   "id": "e7b530dd",
   "metadata": {},
   "outputs": [
    {
     "data": {
      "text/plain": [
       "array([[[6, 7, 7, 8, 1],\n",
       "        [5, 9, 8, 9, 4],\n",
       "        [3, 0, 3, 5, 0]],\n",
       "\n",
       "       [[2, 3, 8, 1, 3],\n",
       "        [3, 3, 7, 0, 1],\n",
       "        [9, 9, 0, 4, 7]],\n",
       "\n",
       "       [[3, 2, 7, 2, 0],\n",
       "        [0, 4, 5, 5, 6],\n",
       "        [8, 4, 1, 4, 9]],\n",
       "\n",
       "       [[8, 1, 1, 7, 9],\n",
       "        [9, 3, 6, 7, 2],\n",
       "        [0, 3, 5, 9, 4]]], dtype=int32)"
      ]
     },
     "execution_count": 4,
     "metadata": {},
     "output_type": "execute_result"
    }
   ],
   "source": [
    "x3"
   ]
  },
  {
   "cell_type": "markdown",
   "id": "3b3bcae5",
   "metadata": {},
   "source": [
    "### Atributos\n",
    "\n",
    "Cada `array` tiene varios atributos:\n",
    "\n",
    "* `ndim`: El número de dimensiones\n",
    "* `shape`: El tamaño de cada dimensión\n",
    "* `size`: El tamaño total del array"
   ]
  },
  {
   "cell_type": "code",
   "execution_count": 5,
   "id": "fdd3abd9",
   "metadata": {},
   "outputs": [
    {
     "data": {
      "text/plain": [
       "1"
      ]
     },
     "execution_count": 5,
     "metadata": {},
     "output_type": "execute_result"
    }
   ],
   "source": [
    "x1.ndim"
   ]
  },
  {
   "cell_type": "code",
   "execution_count": 6,
   "id": "300da96c",
   "metadata": {},
   "outputs": [
    {
     "data": {
      "text/plain": [
       "2"
      ]
     },
     "execution_count": 6,
     "metadata": {},
     "output_type": "execute_result"
    }
   ],
   "source": [
    "x2.ndim"
   ]
  },
  {
   "cell_type": "code",
   "execution_count": 7,
   "id": "8ec27d1b",
   "metadata": {},
   "outputs": [
    {
     "data": {
      "text/plain": [
       "3"
      ]
     },
     "execution_count": 7,
     "metadata": {},
     "output_type": "execute_result"
    }
   ],
   "source": [
    "x3.ndim"
   ]
  },
  {
   "cell_type": "code",
   "execution_count": 8,
   "id": "f45e48d2",
   "metadata": {},
   "outputs": [
    {
     "data": {
      "text/plain": [
       "(3, 4)"
      ]
     },
     "execution_count": 8,
     "metadata": {},
     "output_type": "execute_result"
    }
   ],
   "source": [
    "x2.shape"
   ]
  },
  {
   "cell_type": "code",
   "execution_count": 11,
   "id": "06b5e3e9",
   "metadata": {},
   "outputs": [
    {
     "data": {
      "text/plain": [
       "60"
      ]
     },
     "execution_count": 11,
     "metadata": {},
     "output_type": "execute_result"
    }
   ],
   "source": [
    "x3.size"
   ]
  },
  {
   "cell_type": "markdown",
   "id": "7ef57ec3",
   "metadata": {},
   "source": [
    "También podemos saber el tipo de datos que tiene y el tamaño que ocupa:"
   ]
  },
  {
   "cell_type": "code",
   "execution_count": 12,
   "id": "793464c1",
   "metadata": {},
   "outputs": [
    {
     "data": {
      "text/plain": [
       "dtype('int64')"
      ]
     },
     "execution_count": 12,
     "metadata": {},
     "output_type": "execute_result"
    }
   ],
   "source": [
    "x3.dtype"
   ]
  },
  {
   "cell_type": "code",
   "execution_count": 13,
   "id": "f6383ff1",
   "metadata": {},
   "outputs": [
    {
     "data": {
      "text/plain": [
       "8"
      ]
     },
     "execution_count": 13,
     "metadata": {},
     "output_type": "execute_result"
    }
   ],
   "source": [
    "x3.itemsize"
   ]
  },
  {
   "cell_type": "code",
   "execution_count": 14,
   "id": "c72b698e",
   "metadata": {},
   "outputs": [
    {
     "data": {
      "text/plain": [
       "480"
      ]
     },
     "execution_count": 14,
     "metadata": {},
     "output_type": "execute_result"
    }
   ],
   "source": [
    "x3.nbytes"
   ]
  },
  {
   "cell_type": "markdown",
   "id": "76ab6ac6",
   "metadata": {},
   "source": [
    "Cada elemento ocupa 8 bytes, así que el total ocupan 60*8=480."
   ]
  },
  {
   "cell_type": "markdown",
   "id": "ccce3bbd",
   "metadata": {},
   "source": [
    "### Indexing\n",
    "\n",
    "Los `ndarrays` se pueden indexar con la sintaxis habitual de Python: x[obj], donde x es el array y obj la selección. Dependiendo del valor de este `obj` hay diferentes tipos de indexing. ¡Recordamos que se empieza a contar en el 0!\n",
    "\n",
    "El más básico es el de acceder a un elemento, por ejemplo:"
   ]
  },
  {
   "cell_type": "code",
   "execution_count": 9,
   "id": "ec04f8fc",
   "metadata": {},
   "outputs": [
    {
     "data": {
      "text/plain": [
       "np.int32(3)"
      ]
     },
     "execution_count": 9,
     "metadata": {},
     "output_type": "execute_result"
    }
   ],
   "source": [
    "x1[2]"
   ]
  },
  {
   "cell_type": "code",
   "execution_count": 10,
   "id": "e5ed17bd",
   "metadata": {},
   "outputs": [
    {
     "data": {
      "text/plain": [
       "np.int32(3)"
      ]
     },
     "execution_count": 10,
     "metadata": {},
     "output_type": "execute_result"
    }
   ],
   "source": [
    "x1[-1]"
   ]
  },
  {
   "cell_type": "code",
   "execution_count": 11,
   "id": "c09a077e",
   "metadata": {},
   "outputs": [
    {
     "data": {
      "text/plain": [
       "array([[3, 7, 9, 3],\n",
       "       [5, 2, 4, 7],\n",
       "       [6, 8, 8, 1]], dtype=int32)"
      ]
     },
     "execution_count": 11,
     "metadata": {},
     "output_type": "execute_result"
    }
   ],
   "source": [
    "x2"
   ]
  },
  {
   "cell_type": "code",
   "execution_count": 12,
   "id": "638b172e",
   "metadata": {},
   "outputs": [
    {
     "data": {
      "text/plain": [
       "array([3, 7, 9, 3], dtype=int32)"
      ]
     },
     "execution_count": 12,
     "metadata": {},
     "output_type": "execute_result"
    }
   ],
   "source": [
    "x2[0]"
   ]
  },
  {
   "cell_type": "code",
   "execution_count": 13,
   "id": "fecc205e",
   "metadata": {},
   "outputs": [
    {
     "data": {
      "text/plain": [
       "np.int32(7)"
      ]
     },
     "execution_count": 13,
     "metadata": {},
     "output_type": "execute_result"
    }
   ],
   "source": [
    "# Si tenemos más de una dimensión\n",
    "\n",
    "x2[0,1]"
   ]
  },
  {
   "cell_type": "code",
   "execution_count": 14,
   "id": "33f532f8",
   "metadata": {},
   "outputs": [],
   "source": [
    "x2[0][1] = 2344"
   ]
  },
  {
   "cell_type": "code",
   "execution_count": 15,
   "id": "bd860df1",
   "metadata": {},
   "outputs": [
    {
     "data": {
      "text/plain": [
       "np.int32(2344)"
      ]
     },
     "execution_count": 15,
     "metadata": {},
     "output_type": "execute_result"
    }
   ],
   "source": [
    "x2[0][1] "
   ]
  },
  {
   "cell_type": "code",
   "execution_count": 16,
   "id": "05184e1b",
   "metadata": {},
   "outputs": [
    {
     "data": {
      "text/plain": [
       "array([[   3, 2344,    9,    3],\n",
       "       [   5,    2,    4,    7],\n",
       "       [   6,    8,    8,    1]], dtype=int32)"
      ]
     },
     "execution_count": 16,
     "metadata": {},
     "output_type": "execute_result"
    }
   ],
   "source": [
    "x2"
   ]
  },
  {
   "cell_type": "code",
   "execution_count": 17,
   "id": "09a11d54",
   "metadata": {},
   "outputs": [
    {
     "data": {
      "text/plain": [
       "np.int32(8)"
      ]
     },
     "execution_count": 17,
     "metadata": {},
     "output_type": "execute_result"
    }
   ],
   "source": [
    "x3[0,1,2]"
   ]
  },
  {
   "cell_type": "markdown",
   "id": "91406f79",
   "metadata": {},
   "source": [
    "También podemos acceder a varios elementos usando el objeto slice, que se construye como start:stop:step. Incluye el primer elemento pero no el último."
   ]
  },
  {
   "cell_type": "code",
   "execution_count": 20,
   "id": "5ba551a4",
   "metadata": {},
   "outputs": [
    {
     "data": {
      "text/plain": [
       "array([[   3, 2344,    9,    3],\n",
       "       [   5,    2,    4,    7]], dtype=int32)"
      ]
     },
     "execution_count": 20,
     "metadata": {},
     "output_type": "execute_result"
    }
   ],
   "source": [
    "x2[0:2]"
   ]
  },
  {
   "cell_type": "code",
   "execution_count": 21,
   "id": "90623c9c",
   "metadata": {},
   "outputs": [
    {
     "data": {
      "text/plain": [
       "array([5, 9, 8, 9, 4], dtype=int32)"
      ]
     },
     "execution_count": 21,
     "metadata": {},
     "output_type": "execute_result"
    }
   ],
   "source": [
    "x3[0,1,0:5]"
   ]
  },
  {
   "cell_type": "code",
   "execution_count": 6,
   "id": "c3037c8e",
   "metadata": {},
   "outputs": [
    {
     "data": {
      "text/plain": [
       "array([5, 9, 8, 9, 4])"
      ]
     },
     "execution_count": 6,
     "metadata": {},
     "output_type": "execute_result"
    }
   ],
   "source": [
    "# Podemos omitir el start y stop si queremos todos los elementos de esa dimensión, y el step si quieremos un paso de 1\n",
    "x3[0,1,::]"
   ]
  },
  {
   "cell_type": "code",
   "execution_count": 5,
   "id": "d75687e1",
   "metadata": {},
   "outputs": [
    {
     "data": {
      "text/plain": [
       "array([5, 9, 8, 9, 4])"
      ]
     },
     "execution_count": 5,
     "metadata": {},
     "output_type": "execute_result"
    }
   ],
   "source": [
    "x3[0,1,]"
   ]
  },
  {
   "cell_type": "code",
   "execution_count": 22,
   "id": "97120f6c",
   "metadata": {},
   "outputs": [
    {
     "data": {
      "text/plain": [
       "array([1, 3, 5])"
      ]
     },
     "execution_count": 22,
     "metadata": {},
     "output_type": "execute_result"
    }
   ],
   "source": [
    "import numpy as np\n",
    "x = np.array([0, 1, 2, 3, 4, 5, 6, 7, 8, 9])\n",
    "x[1:7:2]"
   ]
  },
  {
   "cell_type": "code",
   "execution_count": 38,
   "id": "f93d5beb",
   "metadata": {},
   "outputs": [
    {
     "data": {
      "text/plain": [
       "array([7, 6, 5, 4])"
      ]
     },
     "execution_count": 38,
     "metadata": {},
     "output_type": "execute_result"
    }
   ],
   "source": [
    "x[-3:3:-1]"
   ]
  },
  {
   "cell_type": "code",
   "execution_count": 11,
   "id": "cae7a02b",
   "metadata": {},
   "outputs": [
    {
     "data": {
      "text/plain": [
       "array([9, 8, 7, 6, 5, 4, 3, 2, 1])"
      ]
     },
     "execution_count": 11,
     "metadata": {},
     "output_type": "execute_result"
    }
   ],
   "source": [
    "x[9:0:-1]"
   ]
  },
  {
   "cell_type": "code",
   "execution_count": 12,
   "id": "7b6f18ba",
   "metadata": {},
   "outputs": [
    {
     "data": {
      "text/plain": [
       "array([9, 8, 7, 6, 5, 4, 3, 2, 1, 0])"
      ]
     },
     "execution_count": 12,
     "metadata": {},
     "output_type": "execute_result"
    }
   ],
   "source": [
    "x[::-1]"
   ]
  },
  {
   "cell_type": "markdown",
   "id": "67a630f9",
   "metadata": {},
   "source": [
    "Podemos usar la elipsis para acceder a todos los elementos de todas las dimensiones restantes."
   ]
  },
  {
   "cell_type": "code",
   "execution_count": 24,
   "id": "76316ea7",
   "metadata": {},
   "outputs": [
    {
     "name": "stdout",
     "output_type": "stream",
     "text": [
      "[[[8 8 2 3 2]\n",
      "  [0 8 8 3 8]\n",
      "  [2 8 4 3 0]]\n",
      "\n",
      " [[4 3 6 9 8]\n",
      "  [0 8 5 9 0]\n",
      "  [9 6 5 3 1]]\n",
      "\n",
      " [[8 0 4 9 6]\n",
      "  [5 7 8 8 9]\n",
      "  [2 8 6 6 9]]\n",
      "\n",
      " [[1 6 8 8 3]\n",
      "  [2 3 6 3 6]\n",
      "  [5 7 0 8 4]]]\n"
     ]
    },
    {
     "data": {
      "text/plain": [
       "array([[8, 0, 2],\n",
       "       [4, 0, 9],\n",
       "       [8, 5, 2],\n",
       "       [1, 2, 5]], dtype=int32)"
      ]
     },
     "execution_count": 24,
     "metadata": {},
     "output_type": "execute_result"
    }
   ],
   "source": [
    "x = np.random.randint(10, size=(4, 3, 5))\n",
    "print(x)\n",
    "x[:, :,0]"
   ]
  },
  {
   "cell_type": "code",
   "execution_count": 25,
   "id": "5b0b0926",
   "metadata": {},
   "outputs": [
    {
     "data": {
      "text/plain": [
       "array([[8, 0, 2],\n",
       "       [4, 0, 9],\n",
       "       [8, 5, 2],\n",
       "       [1, 2, 5]], dtype=int32)"
      ]
     },
     "execution_count": 25,
     "metadata": {},
     "output_type": "execute_result"
    }
   ],
   "source": [
    "x[..., 0]"
   ]
  },
  {
   "cell_type": "markdown",
   "id": "01bc0d92",
   "metadata": {},
   "source": [
    "#### Reshaping\n",
    "\n",
    "Otra de las herramientas más usadas es `reshape`, que sirve para cambiar las dimensiones de un array sin transformar sus datos. Por ejemplo si queremos transformar:\n",
    "\n",
    "$x = [1, 2, 3, 4, 5, 6, 7, 8, 9]$\n",
    "\n",
    "A una matriz:\n",
    "\n",
    "$x = \\begin{bmatrix}\n",
    "    1 & 2 & 3\\\\\n",
    "    4 & 5 & 6\\\\\n",
    "    7 & 8 & 9\n",
    "\\end{bmatrix}\n",
    "$"
   ]
  },
  {
   "cell_type": "code",
   "execution_count": 15,
   "id": "e4b644e2",
   "metadata": {},
   "outputs": [
    {
     "data": {
      "text/plain": [
       "array([[1, 2, 3],\n",
       "       [4, 5, 6],\n",
       "       [7, 8, 9]])"
      ]
     },
     "execution_count": 15,
     "metadata": {},
     "output_type": "execute_result"
    }
   ],
   "source": [
    "grid = np.arange(1, 10)\n",
    "grid.reshape(3, 3)"
   ]
  },
  {
   "cell_type": "code",
   "execution_count": 24,
   "id": "ee6b560c",
   "metadata": {},
   "outputs": [],
   "source": [
    "v = np.arange(1, 11)"
   ]
  },
  {
   "cell_type": "code",
   "execution_count": 33,
   "id": "ddabad92",
   "metadata": {},
   "outputs": [
    {
     "data": {
      "text/plain": [
       "array([[ 1,  2,  3,  4,  5],\n",
       "       [ 6,  7,  8,  9, 10]])"
      ]
     },
     "execution_count": 33,
     "metadata": {},
     "output_type": "execute_result"
    }
   ],
   "source": [
    "w = v.reshape(2, 5)\n",
    "w"
   ]
  },
  {
   "cell_type": "code",
   "execution_count": 31,
   "id": "e53a41fe",
   "metadata": {},
   "outputs": [
    {
     "data": {
      "text/plain": [
       "array([[0, 1],\n",
       "       [2, 3],\n",
       "       [4, 5]])"
      ]
     },
     "execution_count": 31,
     "metadata": {},
     "output_type": "execute_result"
    }
   ],
   "source": [
    "u = np.arange(6).reshape((3, 2))\n",
    "u"
   ]
  },
  {
   "cell_type": "markdown",
   "id": "fbe0599e",
   "metadata": {},
   "source": [
    "### Joining and splitting\n",
    "\n",
    "En ocasiones podemos necesitar unir o separar arrays, y `numpy`tiene funciones específicas para estas situaciones. Para unir arrays, usamos `concatenate` y para separarlos, usamos `split`."
   ]
  },
  {
   "cell_type": "code",
   "execution_count": 16,
   "id": "c3e87cb0",
   "metadata": {},
   "outputs": [
    {
     "data": {
      "text/plain": [
       "array([1, 2, 3, 4, 5, 6, 7, 8, 9, 1, 2, 3, 4, 5, 6, 7, 8, 9])"
      ]
     },
     "execution_count": 16,
     "metadata": {},
     "output_type": "execute_result"
    }
   ],
   "source": [
    "np.concatenate([grid, grid])"
   ]
  },
  {
   "cell_type": "markdown",
   "id": "96b28b87",
   "metadata": {},
   "source": [
    "Para `arrays` con distinta dimensiones, se suele usar `vstack` (vertical stack) o `hstack` (horizontal)."
   ]
  },
  {
   "cell_type": "code",
   "execution_count": 24,
   "id": "0e52c5d9",
   "metadata": {},
   "outputs": [
    {
     "data": {
      "text/plain": [
       "array([[ 1,  2,  3],\n",
       "       [ 4,  5,  6],\n",
       "       [ 7,  8,  9],\n",
       "       [20, 20, 20]])"
      ]
     },
     "execution_count": 24,
     "metadata": {},
     "output_type": "execute_result"
    }
   ],
   "source": [
    "grid_reshape = grid.reshape(3, 3)\n",
    "x = np.array([20, 20, 20])\n",
    "np.vstack([grid_reshape, x])"
   ]
  },
  {
   "cell_type": "code",
   "execution_count": 28,
   "id": "f97f995d",
   "metadata": {},
   "outputs": [
    {
     "data": {
      "text/plain": [
       "array([[1, 2, 3],\n",
       "       [4, 5, 6]])"
      ]
     },
     "execution_count": 28,
     "metadata": {},
     "output_type": "execute_result"
    }
   ],
   "source": [
    "a = np.array([1,2,3])\n",
    "b = np.array([4,5,6])\n",
    "np.vstack((a,b))"
   ]
  },
  {
   "cell_type": "code",
   "execution_count": 38,
   "id": "1473814a",
   "metadata": {},
   "outputs": [
    {
     "data": {
      "text/plain": [
       "array([1, 2, 3, 4, 5, 6, 7, 8, 9])"
      ]
     },
     "execution_count": 38,
     "metadata": {},
     "output_type": "execute_result"
    }
   ],
   "source": [
    "x = np.arange(1, 10)\n",
    "x"
   ]
  },
  {
   "cell_type": "code",
   "execution_count": 39,
   "id": "9de76a01",
   "metadata": {},
   "outputs": [
    {
     "name": "stdout",
     "output_type": "stream",
     "text": [
      "[1 2 3]\n",
      "[4 5]\n",
      "[6 7 8 9]\n"
     ]
    }
   ],
   "source": [
    "x1, x2, x3 = np.split(x, [3, 5])\n",
    "print(x1)\n",
    "print(x2)\n",
    "print(x3)"
   ]
  },
  {
   "cell_type": "code",
   "execution_count": 40,
   "id": "bef2a000",
   "metadata": {},
   "outputs": [
    {
     "name": "stdout",
     "output_type": "stream",
     "text": [
      "[1 2 3]\n",
      "[4 5 6]\n",
      "[7 8 9]\n"
     ]
    }
   ],
   "source": [
    "x1, x2, x3 = np.split(x, 3)\n",
    "print(x1)\n",
    "print(x2)\n",
    "print(x3)"
   ]
  },
  {
   "cell_type": "code",
   "execution_count": null,
   "id": "b1159fc3",
   "metadata": {},
   "outputs": [],
   "source": []
  }
 ],
 "metadata": {
  "kernelspec": {
   "display_name": "Python 3.12.1 64-bit",
   "language": "python",
   "name": "python3"
  },
  "language_info": {
   "codemirror_mode": {
    "name": "ipython",
    "version": 3
   },
   "file_extension": ".py",
   "mimetype": "text/x-python",
   "name": "python",
   "nbconvert_exporter": "python",
   "pygments_lexer": "ipython3",
   "version": "3.12.1"
  },
  "vscode": {
   "interpreter": {
    "hash": "9240d949b7e875368571ba59acc67192d2efbcc4561b3c6f94c83d7858e18732"
   }
  }
 },
 "nbformat": 4,
 "nbformat_minor": 5
}
